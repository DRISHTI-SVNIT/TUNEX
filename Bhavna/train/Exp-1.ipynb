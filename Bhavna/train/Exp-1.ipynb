{
 "cells": [
  {
   "cell_type": "code",
   "execution_count": 31,
   "metadata": {},
   "outputs": [],
   "source": [
    "import cv2\n",
    "import os\n",
    "import numpy as np\n",
    "import matplotlib.pyplot as plt\n",
    "from tqdm import tqdm"
   ]
  },
  {
   "cell_type": "code",
   "execution_count": 32,
   "metadata": {},
   "outputs": [],
   "source": [
    "train_path = 'images/train/'\n",
    "val_path = 'images/validation/'"
   ]
  },
  {
   "cell_type": "code",
   "execution_count": 33,
   "metadata": {},
   "outputs": [],
   "source": [
    "classes = [\"0\",\"1\",\"2\",\"3\",\"4\",\"5\",\"6\"]\n",
    "img_size = 48"
   ]
  },
  {
   "cell_type": "code",
   "execution_count": 34,
   "metadata": {},
   "outputs": [],
   "source": [
    "from tensorflow.keras.models import Sequential\n",
    "from tensorflow.keras.layers import BatchNormalization\n",
    "from tensorflow.keras.layers import Conv2D\n",
    "from tensorflow.keras.layers import MaxPooling2D\n",
    "from tensorflow.keras.layers import Activation\n",
    "from tensorflow.keras.layers import Flatten\n",
    "from tensorflow.keras.layers import Dropout\n",
    "from tensorflow.keras.layers import Dense\n",
    "from tensorflow.keras.optimizers import Adam\n",
    "from tensorflow.python.keras import backend as k"
   ]
  },
  {
   "cell_type": "code",
   "execution_count": 35,
   "metadata": {},
   "outputs": [],
   "source": [
    "from tensorflow.keras.models import Sequential\n",
    "nb_classes = 7\n",
    "\n",
    "model = Sequential()\n",
    "\n",
    "model.add(Conv2D(64,(3,3), padding='same', input_shape=(48, 48,1)))\n",
    "model.add(BatchNormalization())\n",
    "model.add(Activation('relu'))\n",
    "model.add(MaxPooling2D(pool_size=(2, 2)))\n",
    "model.add(Dropout(0.25))\n",
    "\n",
    "model.add(Conv2D(128,(5,5), padding='same'))\n",
    "model.add(BatchNormalization())\n",
    "model.add(Activation('relu'))\n",
    "model.add(MaxPooling2D(pool_size=(2, 2)))\n",
    "model.add(Dropout(0.35))\n",
    "\n",
    "model.add(Conv2D(512,(3,3), padding='same'))\n",
    "model.add(BatchNormalization())\n",
    "model.add(Activation('relu'))\n",
    "model.add(MaxPooling2D(pool_size=(2, 2)))\n",
    "model.add(Dropout(0.4))\n",
    "\n",
    "model.add(Conv2D(512,(3,3), padding='same'))\n",
    "model.add(BatchNormalization())\n",
    "model.add(Activation('relu'))\n",
    "model.add(MaxPooling2D(pool_size=(2, 2)))\n",
    "model.add(Dropout(0.4))\n",
    "\n",
    "model.add(Flatten())\n",
    "\n",
    "model.add(Dense(256))\n",
    "model.add(BatchNormalization())\n",
    "model.add(Activation('relu'))\n",
    "model.add(Dropout(0.35))\n",
    "\n",
    "model.add(Dense(512))\n",
    "model.add(BatchNormalization())\n",
    "model.add(Activation('relu'))\n",
    "model.add(Dropout(0.25))\n",
    "\n",
    "model.add(Dense(nb_classes, activation='softmax'))\n",
    "\n",
    "opt = Adam(lr=0.0001)\n",
    "model.compile(optimizer=opt, loss='sparse_categorical_crossentropy', metrics=['accuracy'])"
   ]
  },
  {
   "cell_type": "code",
   "execution_count": 36,
   "metadata": {},
   "outputs": [],
   "source": [
    "from tensorflow.keras.callbacks import EarlyStopping\n",
    "\n",
    "early_Stop = EarlyStopping(\n",
    "    monitor=\"val_loss\",\n",
    "    min_delta=0,\n",
    "    patience=3,\n",
    "    verbose=1,\n",
    "    restore_best_weights=True,\n",
    ")\n",
    "\n",
    "callbacks = [early_Stop]"
   ]
  },
  {
   "cell_type": "code",
   "execution_count": 39,
   "metadata": {},
   "outputs": [],
   "source": [
    "import pickle\n",
    "import numpy as np\n",
    "\n",
    "pickle_in = open(\"data_x.pickle\",\"rb\")\n",
    "X = pickle.load(pickle_in)\n",
    "\n",
    "\n",
    "pickle_in = open(\"data_y.pickle\",\"rb\")\n",
    "y = pickle.load(pickle_in)\n",
    "\n",
    "X = X/255.0\n",
    "X=np.array(X)\n",
    "y=np.array(y)"
   ]
  },
  {
   "cell_type": "code",
   "execution_count": 40,
   "metadata": {
    "scrolled": true
   },
   "outputs": [
    {
     "name": "stdout",
     "output_type": "stream",
     "text": [
      "Epoch 1/40\n",
      "WARNING:tensorflow:AutoGraph could not transform <function Model.make_train_function.<locals>.train_function at 0x7fda252b8dd0> and will run it as-is.\n",
      "Please report this to the TensorFlow team. When filing the bug, set the verbosity to 10 (on Linux, `export AUTOGRAPH_VERBOSITY=10`) and attach the full output.\n",
      "Cause: 'arguments' object has no attribute 'posonlyargs'\n",
      "To silence this warning, decorate the function with @tf.autograph.experimental.do_not_convert\n",
      "WARNING: AutoGraph could not transform <function Model.make_train_function.<locals>.train_function at 0x7fda252b8dd0> and will run it as-is.\n",
      "Please report this to the TensorFlow team. When filing the bug, set the verbosity to 10 (on Linux, `export AUTOGRAPH_VERBOSITY=10`) and attach the full output.\n",
      "Cause: 'arguments' object has no attribute 'posonlyargs'\n",
      "To silence this warning, decorate the function with @tf.autograph.experimental.do_not_convert\n",
      "721/721 [==============================] - ETA: 0s - loss: 2.0866 - accuracy: 0.2054WARNING:tensorflow:AutoGraph could not transform <function Model.make_test_function.<locals>.test_function at 0x7fda24370830> and will run it as-is.\n",
      "Please report this to the TensorFlow team. When filing the bug, set the verbosity to 10 (on Linux, `export AUTOGRAPH_VERBOSITY=10`) and attach the full output.\n",
      "Cause: 'arguments' object has no attribute 'posonlyargs'\n",
      "To silence this warning, decorate the function with @tf.autograph.experimental.do_not_convert\n",
      "WARNING: AutoGraph could not transform <function Model.make_test_function.<locals>.test_function at 0x7fda24370830> and will run it as-is.\n",
      "Please report this to the TensorFlow team. When filing the bug, set the verbosity to 10 (on Linux, `export AUTOGRAPH_VERBOSITY=10`) and attach the full output.\n",
      "Cause: 'arguments' object has no attribute 'posonlyargs'\n",
      "To silence this warning, decorate the function with @tf.autograph.experimental.do_not_convert\n",
      "721/721 [==============================] - 320s 443ms/step - loss: 2.0865 - accuracy: 0.2054 - val_loss: 1.8234 - val_accuracy: 0.2491\n",
      "Epoch 2/40\n",
      "721/721 [==============================] - 492s 682ms/step - loss: 1.9293 - accuracy: 0.2404 - val_loss: 1.7822 - val_accuracy: 0.2848\n",
      "Epoch 3/40\n",
      "721/721 [==============================] - 415s 575ms/step - loss: 1.8122 - accuracy: 0.2797 - val_loss: 1.7266 - val_accuracy: 0.3336\n",
      "Epoch 4/40\n",
      "721/721 [==============================] - 369s 511ms/step - loss: 1.7293 - accuracy: 0.3228 - val_loss: 1.5630 - val_accuracy: 0.3936\n",
      "Epoch 5/40\n",
      "721/721 [==============================] - 318s 440ms/step - loss: 1.6368 - accuracy: 0.3627 - val_loss: 1.6331 - val_accuracy: 0.3840\n",
      "Epoch 6/40\n",
      "721/721 [==============================] - 319s 443ms/step - loss: 1.5797 - accuracy: 0.3849 - val_loss: 1.4599 - val_accuracy: 0.4369\n",
      "Epoch 7/40\n",
      "721/721 [==============================] - 316s 438ms/step - loss: 1.5238 - accuracy: 0.4113 - val_loss: 1.4009 - val_accuracy: 0.4494\n",
      "Epoch 8/40\n",
      "721/721 [==============================] - 322s 447ms/step - loss: 1.4729 - accuracy: 0.4284 - val_loss: 1.4276 - val_accuracy: 0.4494\n",
      "Epoch 9/40\n",
      "721/721 [==============================] - 352s 489ms/step - loss: 1.4369 - accuracy: 0.4409 - val_loss: 1.3530 - val_accuracy: 0.4730\n",
      "Epoch 10/40\n",
      "721/721 [==============================] - 333s 462ms/step - loss: 1.3798 - accuracy: 0.4662 - val_loss: 1.2989 - val_accuracy: 0.4978\n",
      "Epoch 11/40\n",
      "721/721 [==============================] - 629s 873ms/step - loss: 1.3740 - accuracy: 0.4749 - val_loss: 1.2668 - val_accuracy: 0.5129\n",
      "Epoch 12/40\n",
      "721/721 [==============================] - 666s 923ms/step - loss: 1.3233 - accuracy: 0.4976 - val_loss: 1.3078 - val_accuracy: 0.4921\n",
      "Epoch 13/40\n",
      "721/721 [==============================] - 711s 986ms/step - loss: 1.2932 - accuracy: 0.5059 - val_loss: 1.2355 - val_accuracy: 0.5195\n",
      "Epoch 14/40\n",
      "721/721 [==============================] - 699s 970ms/step - loss: 1.2802 - accuracy: 0.5062 - val_loss: 1.1849 - val_accuracy: 0.5464\n",
      "Epoch 15/40\n",
      "721/721 [==============================] - 662s 918ms/step - loss: 1.2462 - accuracy: 0.5274 - val_loss: 1.1745 - val_accuracy: 0.5469\n",
      "Epoch 16/40\n",
      "721/721 [==============================] - 615s 853ms/step - loss: 1.2279 - accuracy: 0.5313 - val_loss: 1.3122 - val_accuracy: 0.4973\n",
      "Epoch 17/40\n",
      "721/721 [==============================] - 582s 807ms/step - loss: 1.1981 - accuracy: 0.5438 - val_loss: 1.2154 - val_accuracy: 0.5330\n",
      "Epoch 18/40\n",
      "721/721 [==============================] - 516s 716ms/step - loss: 1.1796 - accuracy: 0.5474 - val_loss: 1.1430 - val_accuracy: 0.5643\n",
      "Epoch 19/40\n",
      "721/721 [==============================] - 375s 520ms/step - loss: 1.1822 - accuracy: 0.5496 - val_loss: 1.1198 - val_accuracy: 0.5764\n",
      "Epoch 20/40\n",
      "721/721 [==============================] - 302s 419ms/step - loss: 1.1586 - accuracy: 0.5536 - val_loss: 1.1190 - val_accuracy: 0.5705\n",
      "Epoch 21/40\n",
      "721/721 [==============================] - 391s 543ms/step - loss: 1.1433 - accuracy: 0.5636 - val_loss: 1.0986 - val_accuracy: 0.5827\n",
      "Epoch 22/40\n",
      "721/721 [==============================] - 328s 455ms/step - loss: 1.1253 - accuracy: 0.5728 - val_loss: 1.1002 - val_accuracy: 0.5795\n",
      "Epoch 23/40\n",
      "721/721 [==============================] - 377s 523ms/step - loss: 1.1184 - accuracy: 0.5744 - val_loss: 1.0817 - val_accuracy: 0.5925\n",
      "Epoch 24/40\n",
      "721/721 [==============================] - 401s 556ms/step - loss: 1.1033 - accuracy: 0.5859 - val_loss: 1.0912 - val_accuracy: 0.5840\n",
      "Epoch 25/40\n",
      "721/721 [==============================] - 375s 520ms/step - loss: 1.0685 - accuracy: 0.5958 - val_loss: 1.1073 - val_accuracy: 0.5827\n",
      "Epoch 26/40\n",
      "721/721 [==============================] - 306s 425ms/step - loss: 1.0667 - accuracy: 0.5969 - val_loss: 1.0586 - val_accuracy: 0.6019\n",
      "Epoch 27/40\n",
      "721/721 [==============================] - 345s 479ms/step - loss: 1.0339 - accuracy: 0.6087 - val_loss: 1.0925 - val_accuracy: 0.5840\n",
      "Epoch 28/40\n",
      "721/721 [==============================] - 348s 483ms/step - loss: 1.0453 - accuracy: 0.6029 - val_loss: 1.0690 - val_accuracy: 0.5953\n",
      "Epoch 29/40\n",
      "721/721 [==============================] - 404s 560ms/step - loss: 1.0279 - accuracy: 0.6058 - val_loss: 1.1015 - val_accuracy: 0.5827\n",
      "Restoring model weights from the end of the best epoch.\n",
      "Epoch 00029: early stopping\n"
     ]
    }
   ],
   "source": [
    "history = model.fit(X,y,epochs = 40,validation_split=0.2,batch_size = 32,callbacks=callbacks)"
   ]
  },
  {
   "cell_type": "code",
   "execution_count": 41,
   "metadata": {
    "scrolled": true
   },
   "outputs": [
    {
     "name": "stdout",
     "output_type": "stream",
     "text": [
      "WARNING:tensorflow:AutoGraph could not transform <function trace_model_call.<locals>._wrapped_model at 0x7fda34eecc20> and will run it as-is.\n",
      "Please report this to the TensorFlow team. When filing the bug, set the verbosity to 10 (on Linux, `export AUTOGRAPH_VERBOSITY=10`) and attach the full output.\n",
      "Cause: module 'gast' has no attribute 'Constant'\n",
      "To silence this warning, decorate the function with @tf.autograph.experimental.do_not_convert\n",
      "WARNING: AutoGraph could not transform <function trace_model_call.<locals>._wrapped_model at 0x7fda34eecc20> and will run it as-is.\n",
      "Please report this to the TensorFlow team. When filing the bug, set the verbosity to 10 (on Linux, `export AUTOGRAPH_VERBOSITY=10`) and attach the full output.\n",
      "Cause: module 'gast' has no attribute 'Constant'\n",
      "To silence this warning, decorate the function with @tf.autograph.experimental.do_not_convert\n",
      "WARNING:tensorflow:AutoGraph could not transform <function canonicalize_signatures.<locals>.signature_wrapper at 0x7fda0e038830> and will run it as-is.\n",
      "Please report this to the TensorFlow team. When filing the bug, set the verbosity to 10 (on Linux, `export AUTOGRAPH_VERBOSITY=10`) and attach the full output.\n",
      "Cause: 'arguments' object has no attribute 'posonlyargs'\n",
      "To silence this warning, decorate the function with @tf.autograph.experimental.do_not_convert\n",
      "WARNING: AutoGraph could not transform <function canonicalize_signatures.<locals>.signature_wrapper at 0x7fda0e038830> and will run it as-is.\n",
      "Please report this to the TensorFlow team. When filing the bug, set the verbosity to 10 (on Linux, `export AUTOGRAPH_VERBOSITY=10`) and attach the full output.\n",
      "Cause: 'arguments' object has no attribute 'posonlyargs'\n",
      "To silence this warning, decorate the function with @tf.autograph.experimental.do_not_convert\n",
      "INFO:tensorflow:Assets written to: face_expression_1.model/assets\n"
     ]
    }
   ],
   "source": [
    "model.save('face_expression_1.h5')\n",
    "model.save('face_expression_1.model')"
   ]
  },
  {
   "cell_type": "code",
   "execution_count": 43,
   "metadata": {},
   "outputs": [
    {
     "data": {
      "image/png": "[encoded data removed]",
      "text/plain": [
       "<Figure size 432x288 with 1 Axes>"
      ]
     },
     "metadata": {},
     "output_type": "display_data"
    },
    {
     "data": {
      "image/png": "[encoded data removed]",
      "text/plain": [
       "<Figure size 432x288 with 1 Axes>"
      ]
     },
     "metadata": {},
     "output_type": "display_data"
    }
   ],
   "source": [
    "import matplotlib.pyplot as plt\n",
    "plt.plot(history.history['accuracy'])\n",
    "plt.plot(history.history['val_accuracy'])\n",
    "plt.title('model accuracy')\n",
    "plt.ylabel('accuracy')\n",
    "plt.xlabel('epoch')\n",
    "plt.legend(['train', 'test'], loc='upper left')\n",
    "plt.show()\n",
    "plt.plot(history.history['loss'])\n",
    "plt.plot(history.history['val_loss'])\n",
    "plt.title('model loss')\n",
    "plt.ylabel('loss')\n",
    "plt.xlabel('epoch')\n",
    "plt.legend(['train', 'test'], loc='upper left')\n",
    "plt.show()"
   ]
  },
  {
   "cell_type": "code",
   "execution_count": null,
   "metadata": {},
   "outputs": [],
   "source": []
  }
 ],
 "metadata": {
  "kernelspec": {
   "display_name": "Python 3",
   "language": "python",
   "name": "python3"
  },
  "language_info": {
   "codemirror_mode": {
    "name": "ipython",
    "version": 3
   },
   "file_extension": ".py",
   "mimetype": "text/x-python",
   "name": "python",
   "nbconvert_exporter": "python",
   "pygments_lexer": "ipython3",
   "version": "3.7.4"
  }
 },
 "nbformat": 4,
 "nbformat_minor": 2
}
