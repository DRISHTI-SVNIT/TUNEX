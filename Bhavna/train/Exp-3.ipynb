{
 "cells": [
  {
   "cell_type": "code",
   "execution_count": 1,
   "metadata": {},
   "outputs": [],
   "source": [
    "import cv2\n",
    "import os\n",
    "import numpy as np\n",
    "import matplotlib.pyplot as plt\n",
    "from tqdm import tqdm\n",
    "import pickle"
   ]
  },
  {
   "cell_type": "code",
   "execution_count": 2,
   "metadata": {},
   "outputs": [],
   "source": [
    "from keras.preprocessing import image_dataset_from_directory\n",
    "from keras.preprocessing import image\n",
    "from keras.preprocessing.image import ImageDataGenerator"
   ]
  },
  {
   "cell_type": "code",
   "execution_count": 3,
   "metadata": {},
   "outputs": [],
   "source": [
    "def read_pickle(directory):\n",
    "    f = open(directory,\"rb\")\n",
    "    X = pickle.load(f)\n",
    "    return np.array(X)"
   ]
  },
  {
   "cell_type": "code",
   "execution_count": 4,
   "metadata": {},
   "outputs": [],
   "source": [
    "X_train = read_pickle('X_Train.pickle')/255.0\n",
    "y_train = read_pickle('y_Train.pickle')\n",
    "X_val = read_pickle('X_val.pickle')/255.0\n",
    "y_val = read_pickle(\"y_val.pickle\")"
   ]
  },
  {
   "cell_type": "code",
   "execution_count": 5,
   "metadata": {},
   "outputs": [],
   "source": [
    "X_train = X_train.reshape(X_train.shape[0],X_train.shape[1], X_train.shape[2], -1)\n",
    "X_val = X_val.reshape(X_val.shape[0],X_val.shape[1], X_val.shape[2], -1)"
   ]
  },
  {
   "cell_type": "code",
   "execution_count": 6,
   "metadata": {},
   "outputs": [],
   "source": [
    "from tensorflow.keras.models import Sequential\n",
    "from tensorflow.keras.layers import BatchNormalization\n",
    "from tensorflow.keras.layers import Conv2D\n",
    "from tensorflow.keras.layers import MaxPooling2D\n",
    "from tensorflow.keras.layers import Activation\n",
    "from tensorflow.keras.layers import Flatten\n",
    "from tensorflow.keras.layers import Dropout\n",
    "from tensorflow.keras.layers import Dense\n",
    "from tensorflow.keras.optimizers import Adam\n",
    "from tensorflow.python.keras import backend as k"
   ]
  },
  {
   "cell_type": "code",
   "execution_count": 7,
   "metadata": {},
   "outputs": [],
   "source": [
    "nb_classes = 7\n",
    "\n",
    "model = Sequential()\n",
    "\n",
    "model.add(Conv2D(64,(3,3), padding='same', input_shape=(48, 48,1)))\n",
    "model.add(BatchNormalization())\n",
    "model.add(Activation('relu'))\n",
    "model.add(MaxPooling2D(pool_size=(2, 2)))\n",
    "model.add(Dropout(0.25))\n",
    "\n",
    "model.add(Conv2D(128,(5,5), padding='same'))\n",
    "model.add(BatchNormalization())\n",
    "model.add(Activation('relu'))\n",
    "model.add(MaxPooling2D(pool_size=(2, 2)))\n",
    "model.add(Dropout(0.35))\n",
    "\n",
    "model.add(Conv2D(512,(3,3), padding='same'))\n",
    "model.add(BatchNormalization())\n",
    "model.add(Activation('relu'))\n",
    "model.add(MaxPooling2D(pool_size=(2, 2)))\n",
    "model.add(Dropout(0.4))\n",
    "\n",
    "model.add(Conv2D(512,(3,3), padding='same'))\n",
    "model.add(BatchNormalization())\n",
    "model.add(Activation('relu'))\n",
    "model.add(MaxPooling2D(pool_size=(2, 2)))\n",
    "model.add(Dropout(0.4))\n",
    "\n",
    "model.add(Flatten())\n",
    "\n",
    "model.add(Dense(256))\n",
    "model.add(BatchNormalization())\n",
    "model.add(Activation('relu'))\n",
    "model.add(Dropout(0.35))\n",
    "\n",
    "model.add(Dense(512))\n",
    "model.add(BatchNormalization())\n",
    "model.add(Activation('relu'))\n",
    "model.add(Dropout(0.25))\n",
    "\n",
    "model.add(Dense(nb_classes, activation='softmax'))\n",
    "\n",
    "opt = Adam(lr=0.0001)\n",
    "model.compile(optimizer=opt, loss='sparse_categorical_crossentropy', metrics=['accuracy'])"
   ]
  },
  {
   "cell_type": "code",
   "execution_count": 8,
   "metadata": {},
   "outputs": [],
   "source": [
    "from tensorflow.keras.callbacks import EarlyStopping\n",
    "\n",
    "early_Stop = EarlyStopping(\n",
    "    monitor=\"val_loss\",\n",
    "    min_delta=0,\n",
    "    patience=3,\n",
    "    verbose=1,\n",
    "    restore_best_weights=True,\n",
    ")\n",
    "\n",
    "callbacks = [early_Stop]"
   ]
  },
  {
   "cell_type": "code",
   "execution_count": 9,
   "metadata": {
    "scrolled": false
   },
   "outputs": [
    {
     "name": "stdout",
     "output_type": "stream",
     "text": [
      "Epoch 1/40\n",
      "451/451 [==============================] - 407s 901ms/step - loss: 2.0745 - accuracy: 0.2153 - val_loss: 1.8516 - val_accuracy: 0.2584\n",
      "Epoch 2/40\n",
      "451/451 [==============================] - 405s 898ms/step - loss: 1.9165 - accuracy: 0.2404 - val_loss: 1.7497 - val_accuracy: 0.2935\n",
      "Epoch 3/40\n",
      "451/451 [==============================] - 349s 773ms/step - loss: 1.8137 - accuracy: 0.2791 - val_loss: 1.6935 - val_accuracy: 0.3501\n",
      "Epoch 4/40\n",
      "451/451 [==============================] - 405s 898ms/step - loss: 1.7433 - accuracy: 0.3257 - val_loss: 1.6727 - val_accuracy: 0.3617\n",
      "Epoch 5/40\n",
      "451/451 [==============================] - 437s 969ms/step - loss: 1.6807 - accuracy: 0.3488 - val_loss: 1.7582 - val_accuracy: 0.3599\n",
      "Epoch 6/40\n",
      "451/451 [==============================] - 482s 1s/step - loss: 1.6180 - accuracy: 0.3792 - val_loss: 1.5726 - val_accuracy: 0.3981\n",
      "Epoch 7/40\n",
      "451/451 [==============================] - 474s 1s/step - loss: 1.5516 - accuracy: 0.4002 - val_loss: 1.7117 - val_accuracy: 0.3915\n",
      "Epoch 8/40\n",
      "451/451 [==============================] - 416s 923ms/step - loss: 1.5057 - accuracy: 0.4164 - val_loss: 1.4861 - val_accuracy: 0.4215\n",
      "Epoch 9/40\n",
      "451/451 [==============================] - 462s 1s/step - loss: 1.4648 - accuracy: 0.4319 - val_loss: 1.3638 - val_accuracy: 0.4738\n",
      "Epoch 10/40\n",
      "451/451 [==============================] - 471s 1s/step - loss: 1.4124 - accuracy: 0.4585 - val_loss: 1.4038 - val_accuracy: 0.4639\n",
      "Epoch 11/40\n",
      "451/451 [==============================] - 404s 896ms/step - loss: 1.3856 - accuracy: 0.4671 - val_loss: 1.4575 - val_accuracy: 0.4592\n",
      "Epoch 12/40\n",
      "451/451 [==============================] - 397s 879ms/step - loss: 1.3566 - accuracy: 0.4764 - val_loss: 1.2650 - val_accuracy: 0.5160\n",
      "Epoch 13/40\n",
      "451/451 [==============================] - 388s 861ms/step - loss: 1.3201 - accuracy: 0.4882 - val_loss: 1.2546 - val_accuracy: 0.5235\n",
      "Epoch 14/40\n",
      "451/451 [==============================] - 368s 816ms/step - loss: 1.3006 - accuracy: 0.5013 - val_loss: 1.2603 - val_accuracy: 0.5137\n",
      "Epoch 15/40\n",
      "451/451 [==============================] - 384s 852ms/step - loss: 1.2815 - accuracy: 0.5078 - val_loss: 1.2391 - val_accuracy: 0.5267\n",
      "Epoch 16/40\n",
      "451/451 [==============================] - 390s 864ms/step - loss: 1.2475 - accuracy: 0.5216 - val_loss: 1.2267 - val_accuracy: 0.5273\n",
      "Epoch 17/40\n",
      "451/451 [==============================] - 403s 894ms/step - loss: 1.2268 - accuracy: 0.5305 - val_loss: 1.2712 - val_accuracy: 0.5154\n",
      "Epoch 18/40\n",
      "451/451 [==============================] - 402s 891ms/step - loss: 1.2188 - accuracy: 0.5340 - val_loss: 1.2097 - val_accuracy: 0.5406\n",
      "Epoch 19/40\n",
      "451/451 [==============================] - 451s 1s/step - loss: 1.1915 - accuracy: 0.5427 - val_loss: 1.1394 - val_accuracy: 0.5686\n",
      "Epoch 20/40\n",
      "451/451 [==============================] - 440s 975ms/step - loss: 1.1739 - accuracy: 0.5509 - val_loss: 1.1501 - val_accuracy: 0.5654\n",
      "Epoch 21/40\n",
      "451/451 [==============================] - 399s 885ms/step - loss: 1.1674 - accuracy: 0.5536 - val_loss: 1.1400 - val_accuracy: 0.5703\n",
      "Epoch 22/40\n",
      "451/451 [==============================] - 337s 748ms/step - loss: 1.1412 - accuracy: 0.5645 - val_loss: 1.1095 - val_accuracy: 0.5778\n",
      "Epoch 23/40\n",
      "451/451 [==============================] - 348s 772ms/step - loss: 1.1259 - accuracy: 0.5687 - val_loss: 1.1085 - val_accuracy: 0.5735\n",
      "Epoch 24/40\n",
      "451/451 [==============================] - 1260s 3s/step - loss: 1.1157 - accuracy: 0.5792 - val_loss: 1.0823 - val_accuracy: 0.5948\n",
      "Epoch 25/40\n",
      "451/451 [==============================] - 2468s 5s/step - loss: 1.0994 - accuracy: 0.5789 - val_loss: 1.0734 - val_accuracy: 0.5943\n",
      "Epoch 26/40\n",
      "451/451 [==============================] - 2304s 5s/step - loss: 1.0902 - accuracy: 0.5842 - val_loss: 1.0594 - val_accuracy: 0.5992\n",
      "Epoch 27/40\n",
      "451/451 [==============================] - 2381s 5s/step - loss: 1.0792 - accuracy: 0.5949 - val_loss: 1.1117 - val_accuracy: 0.5872\n",
      "Epoch 28/40\n",
      "451/451 [==============================] - 2403s 5s/step - loss: 1.0691 - accuracy: 0.5921 - val_loss: 1.0614 - val_accuracy: 0.6006\n",
      "Epoch 29/40\n",
      "451/451 [==============================] - 2072s 5s/step - loss: 1.0507 - accuracy: 0.6014 - val_loss: 1.0511 - val_accuracy: 0.6008\n",
      "Epoch 30/40\n",
      "451/451 [==============================] - 1975s 4s/step - loss: 1.0343 - accuracy: 0.6101 - val_loss: 1.1063 - val_accuracy: 0.5921\n",
      "Epoch 31/40\n",
      "451/451 [==============================] - 2224s 5s/step - loss: 1.0194 - accuracy: 0.6149 - val_loss: 1.0418 - val_accuracy: 0.6135\n",
      "Epoch 32/40\n",
      "451/451 [==============================] - 2063s 5s/step - loss: 1.0210 - accuracy: 0.6121 - val_loss: 1.0311 - val_accuracy: 0.6175\n",
      "Epoch 33/40\n",
      "451/451 [==============================] - 16164s 36s/step - loss: 1.0042 - accuracy: 0.6187 - val_loss: 1.0646 - val_accuracy: 0.6046\n",
      "Epoch 34/40\n",
      "451/451 [==============================] - 311s 690ms/step - loss: 1.0002 - accuracy: 0.6235 - val_loss: 1.0117 - val_accuracy: 0.6238\n",
      "Epoch 35/40\n",
      "451/451 [==============================] - 340s 754ms/step - loss: 0.9819 - accuracy: 0.6260 - val_loss: 1.0295 - val_accuracy: 0.6141\n",
      "Epoch 36/40\n",
      "451/451 [==============================] - 377s 836ms/step - loss: 0.9724 - accuracy: 0.6353 - val_loss: 1.0451 - val_accuracy: 0.6136\n",
      "Epoch 37/40\n",
      "451/451 [==============================] - 457s 1s/step - loss: 0.9699 - accuracy: 0.6402 - val_loss: 1.0271 - val_accuracy: 0.6148\n",
      "Restoring model weights from the end of the best epoch.\n",
      "Epoch 00037: early stopping\n"
     ]
    }
   ],
   "source": [
    "history = model.fit(\n",
    "    X_train, y_train,\n",
    "    epochs = 40,\n",
    "    validation_data=(X_val, y_val),\n",
    "    batch_size = 64,\n",
    "    callbacks=callbacks\n",
    ")\n"
   ]
  },
  {
   "cell_type": "code",
   "execution_count": 10,
   "metadata": {
    "scrolled": true
   },
   "outputs": [
    {
     "name": "stdout",
     "output_type": "stream",
     "text": [
      "INFO:tensorflow:Assets written to: face_expression_3.model/assets\n"
     ]
    }
   ],
   "source": [
    "model.save('face_expression_3.h5')\n",
    "model.save('face_expression_3.model')"
   ]
  },
  {
   "cell_type": "code",
   "execution_count": 11,
   "metadata": {},
   "outputs": [
    {
     "data": {
      "image/png": "[encoded data removed]",
      "text/plain": [
       "<Figure size 432x288 with 1 Axes>"
      ]
     },
     "metadata": {},
     "output_type": "display_data"
    },
    {
     "data": {
      "image/png": "[encoded data removed]",
      "text/plain": [
       "<Figure size 432x288 with 1 Axes>"
      ]
     },
     "metadata": {},
     "output_type": "display_data"
    }
   ],
   "source": [
    "import matplotlib.pyplot as plt\n",
    "plt.plot(history.history['accuracy'])\n",
    "plt.plot(history.history['val_accuracy'])\n",
    "plt.title('model accuracy')\n",
    "plt.ylabel('accuracy')\n",
    "plt.xlabel('epoch')\n",
    "plt.legend(['train', 'test'], loc='upper left')\n",
    "plt.show()\n",
    "plt.plot(history.history['loss'])\n",
    "plt.plot(history.history['val_loss'])\n",
    "plt.title('model loss')\n",
    "plt.ylabel('loss')\n",
    "plt.xlabel('epoch')\n",
    "plt.legend(['train', 'test'], loc='upper left')\n",
    "plt.show()"
   ]
  }
 ],
 "metadata": {
  "kernelspec": {
   "display_name": "Python 3",
   "language": "python",
   "name": "python3"
  },
  "language_info": {
   "codemirror_mode": {
    "name": "ipython",
    "version": 3
   },
   "file_extension": ".py",
   "mimetype": "text/x-python",
   "name": "python",
   "nbconvert_exporter": "python",
   "pygments_lexer": "ipython3",
   "version": "3.7.4"
  }
 },
 "nbformat": 4,
 "nbformat_minor": 2
}
